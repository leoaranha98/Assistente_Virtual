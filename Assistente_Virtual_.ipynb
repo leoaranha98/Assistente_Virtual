{
  "nbformat": 4,
  "nbformat_minor": 0,
  "metadata": {
    "kernelspec": {
      "display_name": "Python 3",
      "language": "python",
      "name": "python3"
    },
    "language_info": {
      "codemirror_mode": {
        "name": "ipython",
        "version": 3
      },
      "file_extension": ".py",
      "mimetype": "text/x-python",
      "name": "python",
      "nbconvert_exporter": "python",
      "pygments_lexer": "ipython3",
      "version": "3.7.3"
    },
    "colab": {
      "provenance": []
    }
  },
  "cells": [
    {
      "cell_type": "markdown",
      "metadata": {
        "id": "AnLwOzr3aS2X"
      },
      "source": [
        "\n",
        "\n",
        "Assistente Virtual\n",
        "\n",
        "Utilizando as bibliotecas de Python, iremos criar uma assistente virtual `comandada por voz` que seja capaz de realizar 3 comandos distintos:\n",
        "\n",
        "    1) A assistente deve receber informações de compromissos/lembretes e **registrá-los** numa \"agenda\" (para facilitar a \"agenda\" pode ser um arquivo TXT ou CSV, como preferirem)\n",
        "    2) A assistente deve informar os compromissos do dia (ex: ler o arquivo e falar os compromissos de uma data)\n",
        "    3) Crie um terceiro comando livre. Pode ser abrir um arquivo de música, programar um alarme ou timer, iniciar um programa qualquer do seu computador, fazer uma busca na web, retornar o tempo (clima) atual, etc...\n"
      ]
    },
    {
      "cell_type": "markdown",
      "metadata": {
        "id": "6T8Rz47HC3jb"
      },
      "source": [
        "#Pipeline\n",
        "\n",
        "Após executar todos os blocos de install e import, deverá ser executada todas as funções do programa, como gravar áudio, falar texto, retornar o compromisso, etc. Então, a execução principal começa com a assistente contendo comandos de Bom dia, Editar e verificar a agenda e ver o clima completo."
      ]
    },
    {
      "cell_type": "markdown",
      "metadata": {
        "id": "w-OR2J53yMJ3"
      },
      "source": [
        "#Installs/Imports\n"
      ]
    },
    {
      "cell_type": "markdown",
      "metadata": {
        "id": "-8QwO2LMNNeM"
      },
      "source": [
        "##Dependencias e funções para STT"
      ]
    },
    {
      "cell_type": "code",
      "metadata": {
        "colab": {
          "base_uri": "https://localhost:8080/"
        },
        "id": "pBjBDO3sNRjY",
        "outputId": "acd87f83-cf5a-4d30-f0d2-c0ba235ecb59"
      },
      "source": [
        "!pip install ffmpeg-python\n",
        "!pip install SpeechRecognition\n",
        "!apt install libasound2-dev portaudio19-dev libportaudio2 libportaudiocpp0 ffmpeg\n",
        "#!pip install PyAudio\n",
        "#!pip -q install pydub"
      ],
      "execution_count": null,
      "outputs": [
        {
          "output_type": "stream",
          "name": "stdout",
          "text": [
            "Collecting ffmpeg-python\n",
            "  Downloading ffmpeg_python-0.2.0-py3-none-any.whl (25 kB)\n",
            "Requirement already satisfied: future in /usr/local/lib/python3.7/dist-packages (from ffmpeg-python) (0.16.0)\n",
            "Installing collected packages: ffmpeg-python\n",
            "Successfully installed ffmpeg-python-0.2.0\n",
            "Collecting SpeechRecognition\n",
            "  Downloading SpeechRecognition-3.8.1-py2.py3-none-any.whl (32.8 MB)\n",
            "\u001b[K     |████████████████████████████████| 32.8 MB 38 kB/s \n",
            "\u001b[?25hInstalling collected packages: SpeechRecognition\n",
            "Successfully installed SpeechRecognition-3.8.1\n",
            "Reading package lists... Done\n",
            "Building dependency tree       \n",
            "Reading state information... Done\n",
            "libasound2-dev is already the newest version (1.1.3-5ubuntu0.6).\n",
            "ffmpeg is already the newest version (7:3.4.8-0ubuntu0.2).\n",
            "Suggested packages:\n",
            "  portaudio19-doc\n",
            "The following NEW packages will be installed:\n",
            "  libportaudio2 libportaudiocpp0 portaudio19-dev\n",
            "0 upgraded, 3 newly installed, 0 to remove and 37 not upgraded.\n",
            "Need to get 184 kB of archives.\n",
            "After this operation, 891 kB of additional disk space will be used.\n",
            "Get:1 http://archive.ubuntu.com/ubuntu bionic/universe amd64 libportaudio2 amd64 19.6.0-1 [64.6 kB]\n",
            "Get:2 http://archive.ubuntu.com/ubuntu bionic/universe amd64 libportaudiocpp0 amd64 19.6.0-1 [15.1 kB]\n",
            "Get:3 http://archive.ubuntu.com/ubuntu bionic/universe amd64 portaudio19-dev amd64 19.6.0-1 [104 kB]\n",
            "Fetched 184 kB in 1s (189 kB/s)\n",
            "Selecting previously unselected package libportaudio2:amd64.\n",
            "(Reading database ... 155013 files and directories currently installed.)\n",
            "Preparing to unpack .../libportaudio2_19.6.0-1_amd64.deb ...\n",
            "Unpacking libportaudio2:amd64 (19.6.0-1) ...\n",
            "Selecting previously unselected package libportaudiocpp0:amd64.\n",
            "Preparing to unpack .../libportaudiocpp0_19.6.0-1_amd64.deb ...\n",
            "Unpacking libportaudiocpp0:amd64 (19.6.0-1) ...\n",
            "Selecting previously unselected package portaudio19-dev:amd64.\n",
            "Preparing to unpack .../portaudio19-dev_19.6.0-1_amd64.deb ...\n",
            "Unpacking portaudio19-dev:amd64 (19.6.0-1) ...\n",
            "Setting up libportaudio2:amd64 (19.6.0-1) ...\n",
            "Setting up libportaudiocpp0:amd64 (19.6.0-1) ...\n",
            "Setting up portaudio19-dev:amd64 (19.6.0-1) ...\n",
            "Processing triggers for libc-bin (2.27-3ubuntu1.3) ...\n",
            "/sbin/ldconfig.real: /usr/local/lib/python3.7/dist-packages/ideep4py/lib/libmkldnn.so.0 is not a symbolic link\n",
            "\n"
          ]
        }
      ]
    },
    {
      "cell_type": "code",
      "metadata": {
        "id": "eq-iF13dNU26"
      },
      "source": [
        "# Códigos prontos para solicitar permissão de uso do microfone do computador pelo browser\n",
        "\n",
        "\"\"\"\n",
        "To write this piece of code I took inspiration/code from a lot of places.\n",
        "It was late night, so I'm not sure how much I created or just copied o.O\n",
        "Here are some of the possible references:\n",
        "https://blog.addpipe.com/recording-audio-in-the-browser-using-pure-html5-and-minimal-javascript/\n",
        "https://stackoverflow.com/a/18650249\n",
        "https://hacks.mozilla.org/2014/06/easy-audio-capture-with-the-mediarecorder-api/\n",
        "https://air.ghost.io/recording-to-an-audio-file-using-html5-and-js/\n",
        "https://stackoverflow.com/a/49019356\n",
        "\"\"\"\n",
        "from IPython.display import HTML, Audio\n",
        "from google.colab.output import eval_js\n",
        "from base64 import b64decode\n",
        "import numpy as np\n",
        "from scipy.io.wavfile import read as wav_read\n",
        "import io\n",
        "import ffmpeg\n",
        "\n",
        "AUDIO_HTML = \"\"\"\n",
        "<script>\n",
        "var my_div = document.createElement(\"DIV\");\n",
        "var my_p = document.createElement(\"P\");\n",
        "var my_btn = document.createElement(\"BUTTON\");\n",
        "var t = document.createTextNode(\"Press to start recording\");\n",
        "\n",
        "my_btn.appendChild(t);\n",
        "//my_p.appendChild(my_btn);\n",
        "my_div.appendChild(my_btn);\n",
        "document.body.appendChild(my_div);\n",
        "\n",
        "var base64data = 0;\n",
        "var reader;\n",
        "var recorder, gumStream;\n",
        "var recordButton = my_btn;\n",
        "\n",
        "var handleSuccess = function(stream) {\n",
        "  gumStream = stream;\n",
        "  var options = {\n",
        "    //bitsPerSecond: 8000, //chrome seems to ignore, always 48k\n",
        "    mimeType : 'audio/webm;codecs=opus'\n",
        "    //mimeType : 'audio/webm;codecs=pcm'\n",
        "  };\n",
        "  //recorder = new MediaRecorder(stream, options);\n",
        "  recorder = new MediaRecorder(stream);\n",
        "  recorder.ondataavailable = function(e) {\n",
        "    var url = URL.createObjectURL(e.data);\n",
        "    var preview = document.createElement('audio');\n",
        "    preview.controls = true;\n",
        "    preview.src = url;\n",
        "    document.body.appendChild(preview);\n",
        "\n",
        "    reader = new FileReader();\n",
        "    reader.readAsDataURL(e.data);\n",
        "    reader.onloadend = function() {\n",
        "      base64data = reader.result;\n",
        "      //console.log(\"Inside FileReader:\" + base64data);\n",
        "    }\n",
        "  };\n",
        "  recorder.start();\n",
        "  };\n",
        "\n",
        "recordButton.innerText = \"Recording... press to stop\";\n",
        "\n",
        "navigator.mediaDevices.getUserMedia({audio: true}).then(handleSuccess);\n",
        "\n",
        "\n",
        "function toggleRecording() {\n",
        "  if (recorder && recorder.state == \"recording\") {\n",
        "      recorder.stop();\n",
        "      gumStream.getAudioTracks()[0].stop();\n",
        "      recordButton.innerText = \"Saving the recording... pls wait!\"\n",
        "  }\n",
        "}\n",
        "\n",
        "// https://stackoverflow.com/a/951057\n",
        "function sleep(ms) {\n",
        "  return new Promise(resolve => setTimeout(resolve, ms));\n",
        "}\n",
        "\n",
        "var data = new Promise(resolve=>{\n",
        "//recordButton.addEventListener(\"click\", toggleRecording);\n",
        "recordButton.onclick = ()=>{\n",
        "toggleRecording()\n",
        "\n",
        "sleep(2000).then(() => {\n",
        "  // wait 2000ms for the data to be available...\n",
        "  // ideally this should use something like await...\n",
        "  //console.log(\"Inside data:\" + base64data)\n",
        "  resolve(base64data.toString())\n",
        "\n",
        "});\n",
        "\n",
        "}\n",
        "});\n",
        "\n",
        "</script>\n",
        "\"\"\"\n",
        "\n",
        "def get_audio():\n",
        "  display(HTML(AUDIO_HTML))\n",
        "  data = eval_js(\"data\")\n",
        "  binary = b64decode(data.split(',')[1])\n",
        "\n",
        "  process = (ffmpeg\n",
        "    .input('pipe:0')\n",
        "    .output('pipe:1', format='wav')\n",
        "    .run_async(pipe_stdin=True, pipe_stdout=True, pipe_stderr=True, quiet=True, overwrite_output=True)\n",
        "  )\n",
        "  output, err = process.communicate(input=binary)\n",
        "\n",
        "  riff_chunk_size = len(output) - 8\n",
        "  # Break up the chunk size into four bytes, held in b.\n",
        "  q = riff_chunk_size\n",
        "  b = []\n",
        "  for i in range(4):\n",
        "      q, r = divmod(q, 256)\n",
        "      b.append(r)\n",
        "\n",
        "  # Replace bytes 4:8 in proc.stdout with the actual size of the RIFF chunk.\n",
        "  riff = output[:4] + bytes(b) + output[8:]\n",
        "\n",
        "  sr, audio = wav_read(io.BytesIO(riff))\n",
        "\n",
        "  return audio, sr"
      ],
      "execution_count": null,
      "outputs": []
    },
    {
      "cell_type": "code",
      "metadata": {
        "id": "SZqxcnmMN39a"
      },
      "source": [
        "def mic2wav(audio, wav_file):\n",
        "  scaled = np.int16(audio/np.max(np.abs(audio)) * 32767)\n",
        "  write(wav_file, 44100, scaled)"
      ],
      "execution_count": null,
      "outputs": []
    },
    {
      "cell_type": "code",
      "metadata": {
        "id": "OFOz1cKoNsVc"
      },
      "source": [
        "def transcreve_audio(wav_file):\n",
        "\n",
        "  # Instancia o reconhecedor de voz\n",
        "  recon = speechRecog.Recognizer()\n",
        "\n",
        "  # Converte audio (.wav) para AudioFile\n",
        "  audiofile = speechRecog.AudioFile(wav_file)\n",
        "\n",
        "  # Converte AudioFile para AudioData\n",
        "  with audiofile as source:\n",
        "      audiodata = recon.record(audiofile)\n",
        "\n",
        "  # Transcreve AudioData para texto\n",
        "  text = recon.recognize_google(audiodata, language=\"pt\")\n",
        "\n",
        "  return text"
      ],
      "execution_count": null,
      "outputs": []
    },
    {
      "cell_type": "markdown",
      "metadata": {
        "id": "fmolwNJ0cz69"
      },
      "source": [
        "##Bibiliotecas"
      ]
    },
    {
      "cell_type": "code",
      "metadata": {
        "colab": {
          "base_uri": "https://localhost:8080/"
        },
        "id": "J_gv0p4TdST8",
        "outputId": "94cdf179-9911-4ba2-ac54-3f99acb2a0a8"
      },
      "source": [
        "!pip install gtts #Google Text to Speech\n",
        "!pip install translators --upgrade"
      ],
      "execution_count": null,
      "outputs": [
        {
          "output_type": "stream",
          "name": "stdout",
          "text": [
            "Collecting gtts\n",
            "  Downloading gTTS-2.2.3-py3-none-any.whl (25 kB)\n",
            "Requirement already satisfied: requests in /usr/local/lib/python3.7/dist-packages (from gtts) (2.23.0)\n",
            "Requirement already satisfied: click in /usr/local/lib/python3.7/dist-packages (from gtts) (7.1.2)\n",
            "Requirement already satisfied: six in /usr/local/lib/python3.7/dist-packages (from gtts) (1.15.0)\n",
            "Requirement already satisfied: chardet<4,>=3.0.2 in /usr/local/lib/python3.7/dist-packages (from requests->gtts) (3.0.4)\n",
            "Requirement already satisfied: idna<3,>=2.5 in /usr/local/lib/python3.7/dist-packages (from requests->gtts) (2.10)\n",
            "Requirement already satisfied: urllib3!=1.25.0,!=1.25.1,<1.26,>=1.21.1 in /usr/local/lib/python3.7/dist-packages (from requests->gtts) (1.24.3)\n",
            "Requirement already satisfied: certifi>=2017.4.17 in /usr/local/lib/python3.7/dist-packages (from requests->gtts) (2021.5.30)\n",
            "Installing collected packages: gtts\n",
            "Successfully installed gtts-2.2.3\n",
            "Collecting translators\n",
            "  Downloading translators-4.9.5-py3-none-any.whl (20 kB)\n",
            "Collecting lxml>=4.5.0\n",
            "  Downloading lxml-4.6.3-cp37-cp37m-manylinux2014_x86_64.whl (6.3 MB)\n",
            "\u001b[K     |████████████████████████████████| 6.3 MB 8.1 MB/s \n",
            "\u001b[?25hCollecting PyExecJS>=1.5.1\n",
            "  Downloading PyExecJS-1.5.1.tar.gz (13 kB)\n",
            "Collecting requests>=2.25.1\n",
            "  Downloading requests-2.26.0-py2.py3-none-any.whl (62 kB)\n",
            "\u001b[K     |████████████████████████████████| 62 kB 804 kB/s \n",
            "\u001b[?25hCollecting loguru>=0.4.1\n",
            "  Downloading loguru-0.5.3-py3-none-any.whl (57 kB)\n",
            "\u001b[K     |████████████████████████████████| 57 kB 4.9 MB/s \n",
            "\u001b[?25hCollecting pathos>=0.2.7\n",
            "  Downloading pathos-0.2.8-py2.py3-none-any.whl (81 kB)\n",
            "\u001b[K     |████████████████████████████████| 81 kB 10.8 MB/s \n",
            "\u001b[?25hRequirement already satisfied: dill>=0.3.4 in /usr/local/lib/python3.7/dist-packages (from pathos>=0.2.7->translators) (0.3.4)\n",
            "Collecting pox>=0.3.0\n",
            "  Downloading pox-0.3.0-py2.py3-none-any.whl (30 kB)\n",
            "Collecting ppft>=1.6.6.4\n",
            "  Downloading ppft-1.6.6.4-py3-none-any.whl (65 kB)\n",
            "\u001b[K     |████████████████████████████████| 65 kB 3.6 MB/s \n",
            "\u001b[?25hRequirement already satisfied: multiprocess>=0.70.12 in /usr/local/lib/python3.7/dist-packages (from pathos>=0.2.7->translators) (0.70.12.2)\n",
            "Requirement already satisfied: six>=1.7.3 in /usr/local/lib/python3.7/dist-packages (from ppft>=1.6.6.4->pathos>=0.2.7->translators) (1.15.0)\n",
            "Requirement already satisfied: charset-normalizer~=2.0.0 in /usr/local/lib/python3.7/dist-packages (from requests>=2.25.1->translators) (2.0.6)\n",
            "Requirement already satisfied: certifi>=2017.4.17 in /usr/local/lib/python3.7/dist-packages (from requests>=2.25.1->translators) (2021.5.30)\n",
            "Requirement already satisfied: urllib3<1.27,>=1.21.1 in /usr/local/lib/python3.7/dist-packages (from requests>=2.25.1->translators) (1.24.3)\n",
            "Requirement already satisfied: idna<4,>=2.5 in /usr/local/lib/python3.7/dist-packages (from requests>=2.25.1->translators) (2.10)\n",
            "Building wheels for collected packages: PyExecJS\n",
            "  Building wheel for PyExecJS (setup.py) ... \u001b[?25l\u001b[?25hdone\n",
            "  Created wheel for PyExecJS: filename=PyExecJS-1.5.1-py3-none-any.whl size=14596 sha256=04fba37aa1bc1136842f6edcca032ba5f6bd87a988a87e8503106c0cc27cffc7\n",
            "  Stored in directory: /root/.cache/pip/wheels/9a/ee/03/da5c0b4a8c13362beeb844eb913bbe58a89bde1de2b9157007\n",
            "Successfully built PyExecJS\n",
            "Installing collected packages: ppft, pox, requests, PyExecJS, pathos, lxml, loguru, translators\n",
            "  Attempting uninstall: requests\n",
            "    Found existing installation: requests 2.23.0\n",
            "    Uninstalling requests-2.23.0:\n",
            "      Successfully uninstalled requests-2.23.0\n",
            "  Attempting uninstall: lxml\n",
            "    Found existing installation: lxml 4.2.6\n",
            "    Uninstalling lxml-4.2.6:\n",
            "      Successfully uninstalled lxml-4.2.6\n",
            "\u001b[31mERROR: pip's dependency resolver does not currently take into account all the packages that are installed. This behaviour is the source of the following dependency conflicts.\n",
            "google-colab 1.0.0 requires requests~=2.23.0, but you have requests 2.26.0 which is incompatible.\n",
            "datascience 0.10.6 requires folium==0.2.1, but you have folium 0.8.3 which is incompatible.\u001b[0m\n",
            "Successfully installed PyExecJS-1.5.1 loguru-0.5.3 lxml-4.6.3 pathos-0.2.8 pox-0.3.0 ppft-1.6.6.4 requests-2.26.0 translators-4.9.5\n"
          ]
        }
      ]
    },
    {
      "cell_type": "code",
      "metadata": {
        "id": "Hse3Kl-Bdld9",
        "colab": {
          "base_uri": "https://localhost:8080/"
        },
        "outputId": "91dc2f43-136f-4f69-e473-c3addfa176f5"
      },
      "source": [
        "from gtts import gTTS #Text to Speech\n",
        "from IPython.display import Audio #Player de audio\n",
        "import requests, json #Trabalhar com api de clima\n",
        "from datetime import date #Trabalhar com datas\n",
        "from datetime import datetime #Trabalhar com datas\n",
        "\n",
        "import pandas as pd #Trabalhar com dataframe\n",
        "\n",
        "\n",
        "import time\n",
        "from IPython.display import clear_output\n",
        "import time\n",
        "import numpy as np\n",
        "from scipy.io.wavfile import write\n",
        "import speech_recognition as speechRecog\n",
        "import translators as ts"
      ],
      "execution_count": null,
      "outputs": [
        {
          "output_type": "stream",
          "name": "stderr",
          "text": [
            "Using United States server backend.\n"
          ]
        }
      ]
    },
    {
      "cell_type": "markdown",
      "metadata": {
        "id": "u9_L2kqRyWyL"
      },
      "source": [
        "#Funções"
      ]
    },
    {
      "cell_type": "markdown",
      "metadata": {
        "id": "kC-wacizc3ux"
      },
      "source": [
        "##Trabalhando com CSV da agenda"
      ]
    },
    {
      "cell_type": "code",
      "metadata": {
        "colab": {
          "base_uri": "https://localhost:8080/"
        },
        "id": "r79ApGEn4wuc",
        "outputId": "92ceba53-7ebd-42ee-abfd-ca66224807a8"
      },
      "source": [
        "#Lendo dataset\n",
        "dc1 = pd.read_csv(\"datas_compromisso.csv\")\n",
        "dc1.head(5)"
      ],
      "execution_count": null,
      "outputs": [
        {
          "output_type": "execute_result",
          "data": {
            "text/html": [
              "<div>\n",
              "<style scoped>\n",
              "    .dataframe tbody tr th:only-of-type {\n",
              "        vertical-align: middle;\n",
              "    }\n",
              "\n",
              "    .dataframe tbody tr th {\n",
              "        vertical-align: top;\n",
              "    }\n",
              "\n",
              "    .dataframe thead th {\n",
              "        text-align: right;\n",
              "    }\n",
              "</style>\n",
              "<table border=\"1\" class=\"dataframe\">\n",
              "  <thead>\n",
              "    <tr style=\"text-align: right;\">\n",
              "      <th></th>\n",
              "      <th>Data</th>\n",
              "      <th>Compromisso</th>\n",
              "    </tr>\n",
              "  </thead>\n",
              "  <tbody>\n",
              "    <tr>\n",
              "      <th>0</th>\n",
              "      <td>26/09/2021</td>\n",
              "      <td>Compras do mês</td>\n",
              "    </tr>\n",
              "    <tr>\n",
              "      <th>1</th>\n",
              "      <td>27/09/2021</td>\n",
              "      <td>NaN</td>\n",
              "    </tr>\n",
              "    <tr>\n",
              "      <th>2</th>\n",
              "      <td>28/09/2021</td>\n",
              "      <td>NaN</td>\n",
              "    </tr>\n",
              "    <tr>\n",
              "      <th>3</th>\n",
              "      <td>29/09/2021</td>\n",
              "      <td>Trabalho da faculdade</td>\n",
              "    </tr>\n",
              "    <tr>\n",
              "      <th>4</th>\n",
              "      <td>30/09/2021</td>\n",
              "      <td>NaN</td>\n",
              "    </tr>\n",
              "  </tbody>\n",
              "</table>\n",
              "</div>"
            ],
            "text/plain": [
              "         Data            Compromisso\n",
              "0  26/09/2021         Compras do mês\n",
              "1  27/09/2021                    NaN\n",
              "2  28/09/2021                    NaN\n",
              "3  29/09/2021  Trabalho da faculdade\n",
              "4  30/09/2021                    NaN"
            ]
          },
          "metadata": {},
          "execution_count": 21
        }
      ]
    },
    {
      "cell_type": "code",
      "metadata": {
        "id": "dmxkUjHg__6W"
      },
      "source": [
        "#Substituindo valores nulos para \"Nenhum compromisso para hoje\"\n",
        "dc1[\"Compromisso\"] = dc1[\"Compromisso\"].fillna(\"Nenhum compromisso para hoje\")"
      ],
      "execution_count": null,
      "outputs": []
    },
    {
      "cell_type": "code",
      "metadata": {
        "colab": {
          "base_uri": "https://localhost:8080/"
        },
        "id": "ffN_aefTHUS7",
        "outputId": "58b69429-6145-49f8-d7c5-da7ab87f179b"
      },
      "source": [
        "dc1.head(10)"
      ],
      "execution_count": null,
      "outputs": [
        {
          "output_type": "execute_result",
          "data": {
            "text/html": [
              "<div>\n",
              "<style scoped>\n",
              "    .dataframe tbody tr th:only-of-type {\n",
              "        vertical-align: middle;\n",
              "    }\n",
              "\n",
              "    .dataframe tbody tr th {\n",
              "        vertical-align: top;\n",
              "    }\n",
              "\n",
              "    .dataframe thead th {\n",
              "        text-align: right;\n",
              "    }\n",
              "</style>\n",
              "<table border=\"1\" class=\"dataframe\">\n",
              "  <thead>\n",
              "    <tr style=\"text-align: right;\">\n",
              "      <th></th>\n",
              "      <th>Data</th>\n",
              "      <th>Compromisso</th>\n",
              "    </tr>\n",
              "  </thead>\n",
              "  <tbody>\n",
              "    <tr>\n",
              "      <th>0</th>\n",
              "      <td>26/09/2021</td>\n",
              "      <td>Compras do mês</td>\n",
              "    </tr>\n",
              "    <tr>\n",
              "      <th>1</th>\n",
              "      <td>27/09/2021</td>\n",
              "      <td>Nenhum compromisso para hoje</td>\n",
              "    </tr>\n",
              "    <tr>\n",
              "      <th>2</th>\n",
              "      <td>28/09/2021</td>\n",
              "      <td>Nenhum compromisso para hoje</td>\n",
              "    </tr>\n",
              "    <tr>\n",
              "      <th>3</th>\n",
              "      <td>29/09/2021</td>\n",
              "      <td>Trabalho da faculdade</td>\n",
              "    </tr>\n",
              "    <tr>\n",
              "      <th>4</th>\n",
              "      <td>30/09/2021</td>\n",
              "      <td>Nenhum compromisso para hoje</td>\n",
              "    </tr>\n",
              "    <tr>\n",
              "      <th>5</th>\n",
              "      <td>01/10/2021</td>\n",
              "      <td>Nenhum compromisso para hoje</td>\n",
              "    </tr>\n",
              "    <tr>\n",
              "      <th>6</th>\n",
              "      <td>02/10/2021</td>\n",
              "      <td>Entregar trabalho</td>\n",
              "    </tr>\n",
              "    <tr>\n",
              "      <th>7</th>\n",
              "      <td>03/10/2021</td>\n",
              "      <td>Nenhum compromisso para hoje</td>\n",
              "    </tr>\n",
              "    <tr>\n",
              "      <th>8</th>\n",
              "      <td>04/10/2021</td>\n",
              "      <td>Sair com os amigos</td>\n",
              "    </tr>\n",
              "    <tr>\n",
              "      <th>9</th>\n",
              "      <td>05/10/2021</td>\n",
              "      <td>Jantar com a familia</td>\n",
              "    </tr>\n",
              "  </tbody>\n",
              "</table>\n",
              "</div>"
            ],
            "text/plain": [
              "         Data                   Compromisso\n",
              "0  26/09/2021                Compras do mês\n",
              "1  27/09/2021  Nenhum compromisso para hoje\n",
              "2  28/09/2021  Nenhum compromisso para hoje\n",
              "3  29/09/2021         Trabalho da faculdade\n",
              "4  30/09/2021  Nenhum compromisso para hoje\n",
              "5  01/10/2021  Nenhum compromisso para hoje\n",
              "6  02/10/2021             Entregar trabalho\n",
              "7  03/10/2021  Nenhum compromisso para hoje\n",
              "8  04/10/2021            Sair com os amigos\n",
              "9  05/10/2021          Jantar com a familia"
            ]
          },
          "metadata": {},
          "execution_count": 23
        }
      ]
    },
    {
      "cell_type": "markdown",
      "metadata": {
        "id": "TAK14uvIc_ha"
      },
      "source": [
        "##Recolhendo informações do clima"
      ]
    },
    {
      "cell_type": "code",
      "metadata": {
        "id": "vw9rGiv0mxYX"
      },
      "source": [
        "#Api externa com informações climaticas\n",
        "#https://openweathermap.org/\n",
        "\n",
        "def getWeather(tipo):\n",
        "\n",
        "  api_key = \"66cb72f9e399d6dad60e7b2fb8ff7aca\"\n",
        "\n",
        "  base_url = \"http://api.openweathermap.org/data/2.5/weather?\"\n",
        "\n",
        "  #city_name = input(\"Enter city name : \")\n",
        "  city_name = \"São Paulo\"\n",
        "\n",
        "  complete_url = base_url + \"appid=\" + api_key + \"&q=\" + city_name\n",
        "\n",
        "  response = requests.get(complete_url)\n",
        "\n",
        "  x = response.json()\n",
        "\n",
        "  if x[\"cod\"] != \"404\":\n",
        "\n",
        "      y = x[\"main\"]\n",
        "\n",
        "      current_temperature = y[\"temp\"] - (273.15)\n",
        "\n",
        "      current_wind = x[\"wind\"][\"speed\"] * 3.6\n",
        "\n",
        "      current_humidity = y[\"humidity\"]\n",
        "\n",
        "      weather_description = x[\"weather\"][0][\"description\"]\n",
        "\n",
        "      weather_description = ts.google(weather_description, from_language=\"en\", to_language=\"pt\")\n",
        "\n",
        "      if tipo == \"temp\":\n",
        "        txt1 = \"{temp:.0f}°C\".format(temp = current_temperature)\n",
        "      else:\n",
        "        txt1 = \"Temperatura: {temp:.0f}°C\".format(temp = current_temperature)\n",
        "        txt1 += \"\\nUmidade: {humi}%\".format(humi = current_humidity)\n",
        "        txt1 += \"\\nVento: {wind:.0f} km/h\".format(wind = current_wind)\n",
        "        txt1 += \"\\Previsão: {weather}\".format(weather = weather_description).title()\n",
        "\n",
        "      #print(txt1)\n",
        "      return(txt1)\n",
        "\n",
        "  else:\n",
        "      print(\" City Not Found \")"
      ],
      "execution_count": null,
      "outputs": []
    },
    {
      "cell_type": "markdown",
      "metadata": {
        "id": "gNmPN3Cy4hAF"
      },
      "source": [
        "##Sysdate"
      ]
    },
    {
      "cell_type": "code",
      "metadata": {
        "id": "otbm6gjv1iHb"
      },
      "source": [
        "#Função para retornar o dia atual\n",
        "def getDate():\n",
        "\n",
        "  data_atual = date.today()\n",
        "  td = timedelta(days=-1)\n",
        "  data_atual = data_atual + td\n",
        "  txtDataAtual = \"{}/{}/{}\".format(f\"{data_atual.day:02d}\", f\"{data_atual.month:02d}\",\n",
        "  data_atual.year)\n",
        "\n",
        "  return(txtDataAtual)"
      ],
      "execution_count": null,
      "outputs": []
    },
    {
      "cell_type": "code",
      "metadata": {
        "colab": {
          "base_uri": "https://localhost:8080/",
          "height": 35
        },
        "id": "rl_YDEDXKbdy",
        "outputId": "980e89ed-f24f-42b5-d817-3eb67206ace4"
      },
      "source": [
        "getDate()"
      ],
      "execution_count": null,
      "outputs": [
        {
          "output_type": "execute_result",
          "data": {
            "application/vnd.google.colaboratory.intrinsic+json": {
              "type": "string"
            },
            "text/plain": [
              "'28/09/2021'"
            ]
          },
          "metadata": {},
          "execution_count": 19
        }
      ]
    },
    {
      "cell_type": "markdown",
      "metadata": {
        "id": "DqDByh_IK_jS"
      },
      "source": [
        "##Retorna Compromisso"
      ]
    },
    {
      "cell_type": "code",
      "metadata": {
        "id": "gj3_jYI9LCsG"
      },
      "source": [
        "#Função para retornar o compromisso baseado na data passada como parametro\n",
        "def getCompromisso(data):\n",
        "\n",
        "  return(dc1.loc[dc1['Data'] == data].at[(dc1.loc[dc1['Data'] == data].index.values.astype(int)[0]), \"Compromisso\"])"
      ],
      "execution_count": null,
      "outputs": []
    },
    {
      "cell_type": "markdown",
      "metadata": {
        "id": "vk8Y25R-KO7p"
      },
      "source": [
        "##Text to Speech Dia atual"
      ]
    },
    {
      "cell_type": "code",
      "metadata": {
        "id": "lHU865Sm1s2C"
      },
      "source": [
        "def hoje():\n",
        "  txtFinal = \"Olá, hoje é dia \" + getDate() + \". Voce tem os seguintes compromissos hoje: \" + getCompromisso(getDate()) + \". Temperatura atual: \"+ getWeather(\"temp\")\n",
        "  falar(txtFinal)\n",
        "  return(Audio(\"/content/voz.mp3\"))\n",
        "#voz = gTTS(txtFinal, lang=\"pt\")\n",
        "#voz.save(\"voz.mp3\")\n",
        "#Audio(\"/content/voz.mp3\")"
      ],
      "execution_count": null,
      "outputs": []
    },
    {
      "cell_type": "markdown",
      "metadata": {
        "id": "Cm3kXo4pwkp4"
      },
      "source": [
        "##Gravar Audio"
      ]
    },
    {
      "cell_type": "code",
      "metadata": {
        "id": "Gzb0ECQkwVYv"
      },
      "source": [
        "#Função para gravar audio e retornar o texto \"STT\"\n",
        "def gravar():\n",
        "  audio, sr = get_audio()\n",
        "  mic2wav(audio, \"test3.wav\")\n",
        "  texto = transcreve_audio(\"test3.wav\")\n",
        "  return(texto)"
      ],
      "execution_count": null,
      "outputs": []
    },
    {
      "cell_type": "markdown",
      "metadata": {
        "id": "E2aw0HwTwnuL"
      },
      "source": [
        "##Falar texto"
      ]
    },
    {
      "cell_type": "code",
      "metadata": {
        "id": "EhwWzr5Nv_bD"
      },
      "source": [
        "#Função com string como parametro e salvar o audio \"TTS\"\n",
        "def falar(fala):\n",
        "  voz = gTTS(fala, lang=\"pt\")\n",
        "  voz.save(\"voz.mp3\")\n",
        "  #return(Audio(\"/content/voz.mp3\"))"
      ],
      "execution_count": null,
      "outputs": []
    },
    {
      "cell_type": "markdown",
      "metadata": {
        "id": "_ToBtUSAvuff"
      },
      "source": [
        "##Formata Data"
      ]
    },
    {
      "cell_type": "code",
      "metadata": {
        "id": "mMg2X1TpV7wJ"
      },
      "source": [
        "#Formatar a data, exemplo: 29 de setembro de 2021 -> 29/09/2021\n",
        "def retData(data):\n",
        "\n",
        "  texto = ts.google(data, from_language=\"pt\", to_language=\"en\")\n",
        "\n",
        "  texto = datetime.strptime(texto, '%B %d, %Y')\n",
        "\n",
        "  texto = \"{}/{}/{}\".format(f\"{texto.day:02d}\", f\"{texto.month:02d}\",texto.year)\n",
        "  texto = str(texto)\n",
        "  texto = texto.replace(\" 00:00:00\", \"\")\n",
        "  texto = texto.replace(\"-\", \"/\")\n",
        "\n",
        "  return(texto)"
      ],
      "execution_count": null,
      "outputs": []
    },
    {
      "cell_type": "markdown",
      "metadata": {
        "id": "Yqg9DuWkFPW-"
      },
      "source": [
        "##Inserir/Editar compromissos"
      ]
    },
    {
      "cell_type": "code",
      "metadata": {
        "id": "4OfLYUuFFa-A"
      },
      "source": [
        "#Função para alterar compromisso, recebe como parametro as opções (novo,substituir, apagar), data e o compromisso para marcar\n",
        "def edita(qst, data, compro):\n",
        "\n",
        "  if (qst == \"novo\"):\n",
        "\n",
        "    print(data)\n",
        "    print(compro)\n",
        "\n",
        "    if((dc1.at[(dc1.loc[dc1['Data'] == data].index.values.astype(int)[0]), \"Compromisso\"]) == \"Nenhum compromisso para hoje\"):\n",
        "      dc1.at[(dc1.loc[dc1['Data'] == data].index.values.astype(int)[0]), \"Compromisso\"] = compro.capitalize()\n",
        "    else:\n",
        "      dc1.at[(dc1.loc[dc1['Data'] == data].index.values.astype(int)[0]), \"Compromisso\"] += (\", \"+compro.capitalize())\n",
        "\n",
        "    return(falar(\"Compromisso marcado\"))\n",
        "\n",
        "  elif (qst == \"substituir\"):\n",
        "\n",
        "    dc1.at[(dc1.loc[dc1['Data'] == data].index.values.astype(int)[0]), \"Compromisso\"] = compro.capitalize()\n",
        "    return(falar(\"Compromisso marcado\"))\n",
        "\n",
        "  elif (qst == \"apagar\"):\n",
        "\n",
        "    dc1.at[(dc1.loc[dc1['Data'] == data].index.values.astype(int)[0]), \"Compromisso\"] = \"Nenhum compromisso para hoje\"\n",
        "    return(falar(\"Compromisso excluido\"))\n",
        "\n",
        "  else:\n",
        "    return(falar(\"Não entendi o que voce disse\"))\n",
        "\n",
        "dc1.to_csv('datas_compromisso.csv', index=False)"
      ],
      "execution_count": null,
      "outputs": []
    },
    {
      "cell_type": "markdown",
      "metadata": {
        "id": "5t2fEder6tSN"
      },
      "source": [
        "##Verificar Dia X"
      ]
    },
    {
      "cell_type": "code",
      "metadata": {
        "id": "gSaF1lC86vwx"
      },
      "source": [
        "#Função para retornar o um dia especifico, usando data como parametro\n",
        "def compromissoDia(data):\n",
        "\n",
        "  return(\"Olá, para o dia \" + data + \". Voce terá os seguintes compromissos : \" + getCompromisso(data))\n",
        "\n",
        "#voz = gTTS(txtFinal, lang=\"pt\")\n",
        "#voz.save(\"voz.mp3\")\n",
        "#Audio(\"/content/voz.mp3\")"
      ],
      "execution_count": null,
      "outputs": []
    },
    {
      "cell_type": "markdown",
      "metadata": {
        "id": "PIM4E8VQylU6"
      },
      "source": [
        "#Main"
      ]
    },
    {
      "cell_type": "markdown",
      "metadata": {
        "id": "d39By5Sc2akw"
      },
      "source": [
        "##Assistente"
      ]
    },
    {
      "cell_type": "code",
      "metadata": {
        "id": "a1g2sZR42cCk"
      },
      "source": [
        "#Cabeçalho com opções\n",
        "print(\"Comandos de voz: \\nBom Dia \\nVerificar Agenda \\nEditar Agenda \\nClima \\nSair\\n\")\n",
        "time.sleep(3)\n",
        "opcao = gravar()\n",
        "#print(opcao)\n",
        "\n",
        "#Seleção das opções\n",
        "\n",
        "if opcao == \"Bom dia\" or opcao == \"bom dia\":\n",
        "  hoje()\n",
        "\n",
        "elif opcao == \"Verificar agenda\" or opcao == \"verificar agenda\":\n",
        "\n",
        "  print(\"\\n\\nQual data?\")\n",
        "\n",
        "  time.sleep(2)\n",
        "\n",
        "  data = gravar()\n",
        "  falar(compromissoDia(retData(data)))\n",
        "\n",
        "elif opcao == \"Editar agenda\" or opcao == \"editar agenda\":\n",
        "  print(\"\\n\\nNovo compromisso, substituir ou apagar compromisso? \\nQual data? \\nQual compromisso?\")\n",
        "\n",
        "  time.sleep(4)\n",
        "\n",
        "  qst = gravar()\n",
        "  data = gravar()\n",
        "\n",
        "  if(qst == \"apagar\"):\n",
        "    edita(qst, retData(data), None)\n",
        "  else:\n",
        "    compro = gravar()\n",
        "    edita(qst, retData(data), compro)\n",
        "\n",
        "elif opcao == \"Clima\" or opcao == \"clima\":\n",
        "  falar(getWeather(\"full\"))\n",
        "\n",
        "elif opcao == \"Sair\" or opcao == \"sair\":\n",
        "  falar(\"Até mais!\")\n",
        "\n",
        "else:\n",
        "  falar(\"Opção inválida!\")\n",
        "\n",
        "Audio(\"/content/voz.mp3\")\n"
      ],
      "execution_count": null,
      "outputs": []
    },
    {
      "cell_type": "markdown",
      "metadata": {
        "id": "2xttdfxxMfWl"
      },
      "source": [
        "#Rascunho\n"
      ]
    },
    {
      "cell_type": "code",
      "metadata": {
        "id": "nVmkoZe1Q1MQ",
        "colab": {
          "base_uri": "https://localhost:8080/",
          "height": 363
        },
        "outputId": "1fbbb48e-7991-49b7-e5c8-7bfcfeab7e9f"
      },
      "source": [
        "dc1.head(10)"
      ],
      "execution_count": null,
      "outputs": [
        {
          "output_type": "execute_result",
          "data": {
            "text/html": [
              "<div>\n",
              "<style scoped>\n",
              "    .dataframe tbody tr th:only-of-type {\n",
              "        vertical-align: middle;\n",
              "    }\n",
              "\n",
              "    .dataframe tbody tr th {\n",
              "        vertical-align: top;\n",
              "    }\n",
              "\n",
              "    .dataframe thead th {\n",
              "        text-align: right;\n",
              "    }\n",
              "</style>\n",
              "<table border=\"1\" class=\"dataframe\">\n",
              "  <thead>\n",
              "    <tr style=\"text-align: right;\">\n",
              "      <th></th>\n",
              "      <th>Data</th>\n",
              "      <th>Compromisso</th>\n",
              "    </tr>\n",
              "  </thead>\n",
              "  <tbody>\n",
              "    <tr>\n",
              "      <th>0</th>\n",
              "      <td>26/09/2021</td>\n",
              "      <td>Compras do mês</td>\n",
              "    </tr>\n",
              "    <tr>\n",
              "      <th>1</th>\n",
              "      <td>27/09/2021</td>\n",
              "      <td>Nenhum compromisso para hoje</td>\n",
              "    </tr>\n",
              "    <tr>\n",
              "      <th>2</th>\n",
              "      <td>28/09/2021</td>\n",
              "      <td>Nenhum compromisso para hoje</td>\n",
              "    </tr>\n",
              "    <tr>\n",
              "      <th>3</th>\n",
              "      <td>29/09/2021</td>\n",
              "      <td>Trabalho da faculdade</td>\n",
              "    </tr>\n",
              "    <tr>\n",
              "      <th>4</th>\n",
              "      <td>30/09/2021</td>\n",
              "      <td>Nenhum compromisso para hoje</td>\n",
              "    </tr>\n",
              "    <tr>\n",
              "      <th>5</th>\n",
              "      <td>01/10/2021</td>\n",
              "      <td>Nenhum compromisso para hoje</td>\n",
              "    </tr>\n",
              "    <tr>\n",
              "      <th>6</th>\n",
              "      <td>02/10/2021</td>\n",
              "      <td>Entregar trabalho</td>\n",
              "    </tr>\n",
              "    <tr>\n",
              "      <th>7</th>\n",
              "      <td>03/10/2021</td>\n",
              "      <td>Nenhum compromisso para hoje</td>\n",
              "    </tr>\n",
              "    <tr>\n",
              "      <th>8</th>\n",
              "      <td>04/10/2021</td>\n",
              "      <td>Sair com os amigos</td>\n",
              "    </tr>\n",
              "    <tr>\n",
              "      <th>9</th>\n",
              "      <td>05/10/2021</td>\n",
              "      <td>Jantar com a familia</td>\n",
              "    </tr>\n",
              "  </tbody>\n",
              "</table>\n",
              "</div>"
            ],
            "text/plain": [
              "         Data                   Compromisso\n",
              "0  26/09/2021                Compras do mês\n",
              "1  27/09/2021  Nenhum compromisso para hoje\n",
              "2  28/09/2021  Nenhum compromisso para hoje\n",
              "3  29/09/2021         Trabalho da faculdade\n",
              "4  30/09/2021  Nenhum compromisso para hoje\n",
              "5  01/10/2021  Nenhum compromisso para hoje\n",
              "6  02/10/2021             Entregar trabalho\n",
              "7  03/10/2021  Nenhum compromisso para hoje\n",
              "8  04/10/2021            Sair com os amigos\n",
              "9  05/10/2021          Jantar com a familia"
            ]
          },
          "metadata": {},
          "execution_count": 24
        }
      ]
    },
    {
      "cell_type": "code",
      "metadata": {
        "id": "nCYernDz5gkz"
      },
      "source": [],
      "execution_count": null,
      "outputs": []
    },
    {
      "cell_type": "code",
      "metadata": {
        "id": "0ent3vZ85xhg"
      },
      "source": [],
      "execution_count": null,
      "outputs": []
    }
  ]
}